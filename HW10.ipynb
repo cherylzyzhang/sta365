{
 "cells": [
  {
   "cell_type": "markdown",
   "id": "cafa7ac57ff692ff",
   "metadata": {
    "collapsed": false,
    "jupyter": {
     "outputs_hidden": false
    }
   },
   "source": [
    "## Week 12 Homework (10)\n",
    "\n",
    "### Q1: define \n",
    "\n",
    "- Gaussian Processes (GPs) and stochastic processes generally\n",
    "- Variational inference using the Evidence Lower Bound (ELBO)"
   ]
  },
  {
   "cell_type": "markdown",
   "id": "2b7316da5b2f1ac5",
   "metadata": {
    "collapsed": false,
    "jupyter": {
     "outputs_hidden": false
    }
   },
   "source": [
    "A stochastis process is a collection of random variables indexed by time, space, or any other set. A Gaussian Process is a type of stochastic process where any finite set of points has a joint multivariate normal distribution. It defines a distribution over functions, not just over finite-dimensional variables.\n",
    "\n",
    "$$f(x)∼GP(m(x),k(x,x′))$$\n",
    "\n",
    "where $m(x)$ is the mean, and $k(x, x')$ is the kernel function\n",
    "\n",
    "Variational Inference is a technique to approximate intractable posterior distribution by finding a simpler distribution that is closest to the true posterior. Because the marginal likelihood is hard to compute directly, we instead maximize a lower bound on log ot he marginal likelihood called the ELBO, hence maximizing ELBO is equivalent to minimizing the KL divergence between the simpler distribution and the true posterior."
   ]
  },
  {
   "cell_type": "markdown",
   "id": "c6c81ab7c7a33a95",
   "metadata": {
    "collapsed": false,
    "jupyter": {
     "outputs_hidden": false
    }
   },
   "source": [
    "\n",
    "### Q2: more GPs\n",
    "\n",
    "Repurpose PyMC documentation to provide a demonstration of Gaussian processes for a different dataset context than the PyMC examples."
   ]
  },
  {
   "cell_type": "code",
   "execution_count": null,
   "id": "80bdf452428e81f5",
   "metadata": {
    "ExecuteTime": {
     "end_time": "2025-04-02T18:42:50.133007Z",
     "start_time": "2025-04-02T18:42:45.621409Z"
    },
    "collapsed": false,
    "jupyter": {
     "outputs_hidden": false
    }
   },
   "outputs": [
    {
     "data": {
      "image/png": "[encoded data removed]",
      "text/plain": [
       "<Figure size 800x400 with 1 Axes>"
      ]
     },
     "metadata": {},
     "output_type": "display_data"
    },
    {
     "name": "stderr",
     "output_type": "stream",
     "text": [
      "/opt/conda/lib/python3.11/site-packages/pymc/gp/gp.py:56: FutureWarning: The 'noise' parameter has been been changed to 'sigma' in order to standardize the GP API and will be deprecated in future releases.\n",
      "  warnings.warn(_noise_deprecation_warning, FutureWarning)\n"
     ]
    }
   ],
   "source": [
    "import pymc as pm\n",
    "import numpy as np\n",
    "import pandas as pd\n",
    "import matplotlib.pyplot as plt\n",
    "import arviz as az\n",
    "\n",
    "# Example dataset: average Toronto monthly temperatures (°C)\n",
    "months = np.arange(1, 13)\n",
    "temps = np.array([-5.1, -3.1, 1.7, 8.3, 14.7, 19.5, 22.2, 21.3, 16.8, 10.1, 4.4, -1.5])  # avg monthly temps\n",
    "\n",
    "x = months[:, None] / 12.0\n",
    "y = temps\n",
    "\n",
    "plt.figure(figsize=(8, 4))\n",
    "plt.plot(months, temps, \"o\", label=\"Observed Temperatures\")\n",
    "plt.xlabel(\"Month\")\n",
    "plt.ylabel(\"Avg Temp (°C)\")\n",
    "plt.title(\"Monthly Avg Temp in Toronto\")\n",
    "plt.grid(True)\n",
    "plt.legend()\n",
    "plt.show()\n",
    "\n",
    "with pm.Model() as gp_model:\n",
    "    mean_func = pm.gp.mean.Zero()\n",
    "    cov_func = pm.gp.cov.ExpQuad(1, ls=0.3)\n",
    "    gp = pm.gp.Marginal(mean_func=mean_func, cov_func=cov_func)\n",
    "    sigma = pm.HalfNormal(\"sigma\", sigma=5)\n",
    "    y_ = gp.marginal_likelihood(\"y\", X=x, y=y, noise=sigma)\n",
    "    trace = pm.sample(1000, chains=2, target_accept=0.9)\n",
    "\n",
    "x_pred = np.linspace(0, 1, 100)[:, None]\n",
    "\n",
    "with gp_model:\n",
    "    f_pred = gp.conditional(\"f_pred\", Xnew=x_pred)\n",
    "    f_samples = pm.draw(f_pred, draws=1000, random_seed=42)\n",
    "    pred_samples = pm.sample_posterior_predictive(trace, var_names=[\"f_pred\"])\n",
    "\n",
    "f_pred_mean = f_samples.mean(axis=0)\n",
    "f_pred_hpd = az.hdi(f_samples, hdi_prob=0.94)\n",
    "\n",
    "plt.figure(figsize=(8, 4))\n",
    "plt.plot(months, temps, \"o\", label=\"Observed\")\n",
    "plt.plot(x_pred.flatten() * 12, f_pred_mean, label=\"GP Mean\")\n",
    "plt.fill_between(x_pred.flatten() * 12, f_pred_hpd[:, 0], f_pred_hpd[:, 1], alpha=0.3, label=\"94% HDI\")\n",
    "plt.xlabel(\"Month\")\n",
    "plt.ylabel(\"Avg Temp (°C)\")\n",
    "plt.title(\"GP Fit to Monthly Temperature in Toronto\")\n",
    "plt.legend()\n",
    "plt.grid(True)\n",
    "plt.show()\n"
   ]
  },
  {
   "cell_type": "markdown",
   "id": "8fa6ef8468fc6c90",
   "metadata": {
    "collapsed": false,
    "jupyter": {
     "outputs_hidden": false
    }
   },
   "source": [
    "\n",
    "### Q3: more VI/ELBO\n",
    "\n",
    "Repurpose PyMC documentation to provide a demonstration of a neural network fit with variational inference for a different dataset context than the PyMC examples."
   ]
  },
  {
   "cell_type": "code",
   "execution_count": null,
   "id": "b229634f0372b75",
   "metadata": {
    "ExecuteTime": {
     "end_time": "2025-04-02T18:48:40.087640Z",
     "start_time": "2025-04-02T18:48:36.560642Z"
    },
    "collapsed": false,
    "jupyter": {
     "outputs_hidden": false
    }
   },
   "outputs": [],
   "source": [
    "import pymc as pm\n",
    "import numpy as np\n",
    "import pandas as pd\n",
    "import matplotlib.pyplot as plt\n",
    "import arviz as az\n",
    "from sklearn.preprocessing import StandardScaler\n",
    "from sklearn.model_selection import train_test_split\n",
    "\n",
    "url = \"http://archive.ics.uci.edu/ml/machine-learning-databases/auto-mpg/auto-mpg.data\"\n",
    "columns = ['mpg','cylinders','displacement','horsepower','weight','acceleration','model_year','origin','car_name']\n",
    "df = pd.read_csv(url, delim_whitespace=True, names=columns, na_values='?')\n",
    "df = df.dropna()\n",
    "\n",
    "X = df[['horsepower', 'weight', 'acceleration']].values\n",
    "y = df['mpg'].values\n",
    "\n",
    "# Standardize\n",
    "scaler_x = StandardScaler()\n",
    "scaler_y = StandardScaler()\n",
    "X_scaled = scaler_x.fit_transform(X)\n",
    "y_scaled = scaler_y.fit_transform(y.reshape(-1, 1)).flatten()\n",
    "\n",
    "# Train-test split\n",
    "X_train, X_test, y_train, y_test = train_test_split(X_scaled, y_scaled, test_size=0.2, random_state=42)\n",
    "\n",
    "# Define Bayesian neural network\n",
    "with pm.Model() as neural_net_vi:\n",
    "    # Layer 1\n",
    "    weights_in_1 = pm.Normal(\"w_in_1\", mu=0, sigma=1, shape=(3, 10))\n",
    "    bias_in_1 = pm.Normal(\"b_in_1\", mu=0, sigma=1, shape=(10,))\n",
    "    act_1 = pm.math.tanh(pm.math.dot(X_train, weights_in_1) + bias_in_1)\n",
    "\n",
    "    # Output layer\n",
    "    weights_2 = pm.Normal(\"w_2\", mu=0, sigma=1, shape=(10,))\n",
    "    bias_2 = pm.Normal(\"b_2\", mu=0, sigma=1)\n",
    "    mu = pm.math.dot(act_1, weights_2) + bias_2\n",
    "\n",
    "    # Observation noise\n",
    "    sigma = pm.HalfNormal(\"sigma\", sigma=1)\n",
    "\n",
    "    # Likelihood\n",
    "    y_obs = pm.Normal(\"y_obs\", mu=mu, sigma=sigma, observed=y_train)\n",
    "\n",
    "    approx = pm.fit(n=10000, method='advi')\n",
    "    trace = approx.sample(1000)\n",
    "\n",
    "w1 = trace.posterior[\"w_in_1\"].mean(dim=(\"chain\", \"draw\")).values\n",
    "b1 = trace.posterior[\"b_in_1\"].mean(dim=(\"chain\", \"draw\")).values\n",
    "w2 = trace.posterior[\"w_2\"].mean(dim=(\"chain\", \"draw\")).values\n",
    "b2 = trace.posterior[\"b_2\"].mean(dim=(\"chain\", \"draw\")).values\n",
    "\n",
    "# Forward pass manually using NumPy\n",
    "act_1_test = np.tanh(np.dot(X_test, w1) + b1)\n",
    "y_pred_scaled = np.dot(act_1_test, w2) + b2\n",
    "y_pred = scaler_y.inverse_transform(y_pred_scaled.reshape(-1, 1)).flatten()\n",
    "\n",
    "plt.figure(figsize=(6, 6))\n",
    "plt.scatter(scaler_y.inverse_transform(y_test.reshape(-1, 1)), y_pred, alpha=0.6)\n",
    "plt.plot([10, 50], [10, 50], \"--\", color=\"gray\")\n",
    "plt.xlabel(\"Actual MPG\")\n",
    "plt.ylabel(\"Predicted MPG\")\n",
    "plt.title(\"BNN with VI on Auto MPG Dataset\")\n",
    "plt.grid(True)\n",
    "plt.show()\n",
    "\n"
   ]
  },
  {
   "cell_type": "code",
   "execution_count": null,
   "id": "2b2d8c3afcc0dccb",
   "metadata": {
    "collapsed": false,
    "jupyter": {
     "outputs_hidden": false
    }
   },
   "outputs": [],
   "source": []
  },
  {
   "cell_type": "code",
   "execution_count": null,
   "id": "549fb8fd-367f-404c-b5e2-42caa720c489",
   "metadata": {},
   "outputs": [],
   "source": []
  }
 ],
 "metadata": {
  "kernelspec": {
   "display_name": "Python 3 (ipykernel)",
   "language": "python",
   "name": "python3"
  },
  "language_info": {
   "codemirror_mode": {
    "name": "ipython",
    "version": 3
   },
   "file_extension": ".py",
   "mimetype": "text/x-python",
   "name": "python",
   "nbconvert_exporter": "python",
   "pygments_lexer": "ipython3",
   "version": "3.11.6"
  }
 },
 "nbformat": 4,
 "nbformat_minor": 5
}
